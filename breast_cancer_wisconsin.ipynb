{
 "cells": [
  {
   "cell_type": "markdown",
   "id": "5f31db73",
   "metadata": {},
   "source": [
    "![Winsconsin](img/winsconsin.jpeg)"
   ]
  },
  {
   "cell_type": "markdown",
   "id": "59a7ec80",
   "metadata": {},
   "source": [
    "🩻 **Classification de tumeurs à partir de données médicales**\n",
    "\n",
    "**Contexte** :\n",
    "Vous intégrez une équipe de développement en intelligence artificielle dans le cadre d’un projet pilote mené par un consortium de recherche médicale basé dans l’État du Wisconsin, aux États-Unis. Ce projet vise à concevoir des outils numériques d’aide au diagnostic précoce du cancer du sein, en collaboration avec des centres hospitaliers universitaires et des laboratoires d’analyses.\n",
    "\n",
    "Dans ce cadre, un jeu de données clinique réel — le **Breast Cancer Wisconsin Diagnostic Dataset**, collecté par le Dr. William H. Wolberg au sein de l’université du Wisconsin — a été mis à disposition. Ce dataset contient les caractéristiques de cellules prélevées lors de biopsies mammaires, classées manuellement comme tumeurs bénignes ou malignes.\n",
    "\n",
    "⸻\n",
    "\n",
    "🎯 **Objectif** :\n",
    "\n",
    "Votre mission consiste à concevoir un prototype fonctionnel permettant de prédire la nature de la tumeur à partir de ces données, via un modèle de classification en apprentissage supervisé ([**régression logistique**](https://www.w3schools.com/python/python_ml_logistic_regression.asp)). L’objectif est de démontrer la faisabilité d’un outil automatisé pouvant compléter l’expertise des médecins dans l’analyse de résultats de biopsies.\n",
    "\n",
    "Construire un modèle de régression logistique capable de prédire la variable `diagnosis` à partir des caractéristiques disponibles dans le fichier ([`data/breast_cancer_wisconsin.csv`](data/breast_cancer_wisconsin.csv)).  \n",
    "\n",
    "Pour comprendre le dataset, vous pouvez consulter cette page kaggle : https://www.kaggle.com/datasets/uciml/breast-cancer-wisconsin-data\n",
    "\n",
    "- Exploration des données (EDA) :\n",
    "    - Comprendre les variables (qualitatives/quantitatives)\n",
    "\t- Statistiques descriptives\n",
    "\t- Visualisations (histogrammes, heatmap de corrélation, etc.)\n",
    "- Préparation des données :\n",
    "    - Traitement des valeurs manquantes sinécessaire\n",
    "\t- **Transformation des variables catégorielles** (`diagnosis`)\n",
    "\t- **Création éventuelle de nouvelles features**\n",
    "\t- Standardisation si nécessaire\n",
    "    - Séparation train/test\n",
    "- Modélisation :\n",
    "    - Implémentation d’un modèle de régression logistique\n",
    "- Évaluation du modèle :\n",
    "    - Calcul des métriques : accuracy, precision, recall, f1-score\n",
    "    - Matrice de confusion \n",
    "    - Bonus : [Étudier AUC - ROC curve](https://www.w3schools.com/python/python_ml_auc_roc.asp)\n",
    "- Intégration simple du modèle dans un script interactif\n",
    "    - Intégrer votre modèle dans un script Python simple qui permet à un utilisateur de faire une prédiction à partir de nouvelles données.\n",
    "\n",
    "⚠️ Attention aux variables fortement corrélées\n",
    "\n",
    "Le jeu de données Breast Cancer Wisconsin contient plusieurs variables fortement corrélées entre elles, notamment :\n",
    "- `radius_mean`, `perimeter_mean`, `area_mean`\n",
    "- ainsi que leurs déclinaisons en `_se` et `_worst`\n",
    "\n",
    "Cela peut poser des problèmes de multicolinéarité, particulièrement si vous utilisez des modèles linéaires (régression logistique, SVM linéaire, etc.). Ces redondances peuvent fausser les résultats ou générer un sur-apprentissage.\n",
    "\n",
    "➤ Recommandations :\n",
    "- Identifiez les corrélations fortes à l’aide d’une matrice de corrélation ou d’une heatmap\n",
    "- En cas de corrélation > 0.9 entre deux variables, conservez une seule variable du groupe\n",
    "- Bonus (niveau légende 😈) : vous pouvez également étudier et appliquer une [réduction de dimension type PCA (Pricipal Component Analysis)](https://openclassrooms.com/fr/courses/4525281-realisez-une-analyse-de-donnees-exploratoire/5280368-comprenez-lenjeu-de-lanalyse-en-composantes-principales) si vous souhaitez automatiser le traitement de la redondance"
   ]
  }
 ],
 "metadata": {
  "kernelspec": {
   "display_name": ".venv",
   "language": "python",
   "name": "python3"
  },
  "language_info": {
   "name": "python",
   "version": "3.13.3"
  }
 },
 "nbformat": 4,
 "nbformat_minor": 5
}
